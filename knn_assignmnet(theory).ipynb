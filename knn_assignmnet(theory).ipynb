{
 "cells": [
  {
   "cell_type": "code",
   "execution_count": 1,
   "id": "9652af5d-3c1e-4722-8922-b45ac50690d6",
   "metadata": {},
   "outputs": [],
   "source": [
    "#Q1. What is K-Nearest Neighbors (KNN) and how does it work\n",
    "#KNN is a supervised ML algorithm that predicts a data point’s class/label based on the majority (classification) or average (regression) of its K nearest neighbors using distance."
   ]
  },
  {
   "cell_type": "code",
   "execution_count": 2,
   "id": "3772f585-b717-43c9-ab77-d8662635bef4",
   "metadata": {},
   "outputs": [],
   "source": [
    "#Q2. What is the difference between KNN Classification and KNN Regression?\n",
    "\n",
    "#Classification: Predicts a category (majority voting).\n",
    "\n",
    "#Regression: Predicts a numeric value (average of neighbors)."
   ]
  },
  {
   "cell_type": "code",
   "execution_count": 3,
   "id": "b2649cc1-edf3-48f4-9b00-a6ebe5d07d62",
   "metadata": {},
   "outputs": [],
   "source": [
    "#Q3. What is the role of the distance metric in KNN?\n",
    "#It measures closeness between points (commonly Euclidean, Manhattan, Minkowski). Accuracy depends on choosing the right distance metric."
   ]
  },
  {
   "cell_type": "code",
   "execution_count": 4,
   "id": "c69faeba-85bf-4e0e-bdf1-396df67fdf36",
   "metadata": {},
   "outputs": [],
   "source": [
    "#Q4. What is the Curse of Dimensionality in KNN?\n",
    "#As dimensions increase, distances between points become less meaningful, reducing KNN’s effectiveness."
   ]
  },
  {
   "cell_type": "code",
   "execution_count": 5,
   "id": "70a0f980-07c1-4b94-ac62-d7d65b4658ad",
   "metadata": {},
   "outputs": [],
   "source": [
    "#Q5. How can we choose the best value of K in KNN?\n",
    "#Use cross-validation: small K → overfitting, large K → underfitting. Often √N (N = dataset size) is a good starting point."
   ]
  },
  {
   "cell_type": "code",
   "execution_count": 6,
   "id": "242a9b47-1b8d-431d-983b-e0fc2be89a2b",
   "metadata": {},
   "outputs": [],
   "source": [
    "#Q6. What are KD Tree and Ball Tree in KNN?\n",
    "\n",
    "#KD Tree: Data structure that partitions space using axis-aligned splits.\n",
    "\n",
    "#Ball Tree: Partitions space using hyperspheres (better for high dimensions)."
   ]
  },
  {
   "cell_type": "code",
   "execution_count": 7,
   "id": "735f09a7-00ec-4f3f-852f-45fff4c25880",
   "metadata": {},
   "outputs": [],
   "source": [
    "#Q7. When should you use KD Tree vs. Ball Tree?\n",
    "\n",
    "#KD Tree: Efficient in low dimensions (<20).\n",
    "\n",
    "#Ball Tree: Better for high-dimensional data."
   ]
  },
  {
   "cell_type": "code",
   "execution_count": 8,
   "id": "67e45b86-3ee9-40a8-b782-65697315c757",
   "metadata": {},
   "outputs": [],
   "source": [
    "#Q8. What are the disadvantages of KNN?\n",
    "\n",
    "#Slow with large datasets.\n",
    "\n",
    "#Sensitive to irrelevant features & scaling.\n",
    "\n",
    "#Struggles in high dimensions."
   ]
  },
  {
   "cell_type": "code",
   "execution_count": 9,
   "id": "ea1a79c5-8eb5-4bb5-98c1-0f6edf652c96",
   "metadata": {},
   "outputs": [],
   "source": [
    "#Q9. How does feature scaling affect KNN?\n",
    "#Since KNN depends on distances, unscaled features can dominate. Standardization/normalization improves performance."
   ]
  },
  {
   "cell_type": "code",
   "execution_count": 10,
   "id": "e0626164-3e37-4aed-b5dc-007c7e208715",
   "metadata": {},
   "outputs": [],
   "source": [
    "#Q10. What is PCA (Principal Component Analysis)?\n",
    "#PCA is a dimensionality reduction technique that transforms data into fewer uncorrelated variables (principal components)."
   ]
  },
  {
   "cell_type": "code",
   "execution_count": 11,
   "id": "b3688d0c-23dc-499d-a091-3329c37076f0",
   "metadata": {},
   "outputs": [],
   "source": [
    "#Q11. How does PCA work?\n",
    "\n",
    "#Standardize data.\n",
    "\n",
    "#Compute covariance matrix.\n",
    "\n",
    "#Find eigenvalues/eigenvectors.\n",
    "\n",
    "#Project data onto top components."
   ]
  },
  {
   "cell_type": "code",
   "execution_count": 12,
   "id": "b875eb02-29c2-4a77-bfaf-ebcdf3401982",
   "metadata": {},
   "outputs": [],
   "source": [
    "#Q12. What is the geometric intuition behind PCA?\n",
    "#PCA rotates the data axes to align with directions of maximum variance, reducing redundancy."
   ]
  },
  {
   "cell_type": "code",
   "execution_count": 13,
   "id": "b36f0968-3f10-489b-938f-0f00abd9c28a",
   "metadata": {},
   "outputs": [],
   "source": [
    "#Q14. What are Eigenvalues and Eigenvectors in PCA?\n",
    "\n",
    "#Eigenvectors: Directions of maximum variance (principal components).\n",
    "\n",
    "#Eigenvalues: Amount of variance captured along those directions."
   ]
  },
  {
   "cell_type": "code",
   "execution_count": null,
   "id": "3fe2d6f4-2630-4428-941a-1bd072d7ef04",
   "metadata": {},
   "outputs": [],
   "source": [
    "3Q17. What are the limitations of PCA?#\n",
    "Assumes linear relationships.\n",
    "\n",
    "Loses interpretability of features.\n",
    "\n",
    "Sensitive to scaling."
   ]
  }
 ],
 "metadata": {
  "kernelspec": {
   "display_name": "Python 3 (ipykernel)",
   "language": "python",
   "name": "python3"
  },
  "language_info": {
   "codemirror_mode": {
    "name": "ipython",
    "version": 3
   },
   "file_extension": ".py",
   "mimetype": "text/x-python",
   "name": "python",
   "nbconvert_exporter": "python",
   "pygments_lexer": "ipython3",
   "version": "3.11.5"
  }
 },
 "nbformat": 4,
 "nbformat_minor": 5
}
